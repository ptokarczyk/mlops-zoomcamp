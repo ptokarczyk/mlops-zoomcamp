{
 "cells": [
  {
   "cell_type": "code",
   "execution_count": 1,
   "id": "735ebb21",
   "metadata": {},
   "outputs": [],
   "source": [
    "import os\n",
    "import seaborn as sns\n",
    "import pandas as pd\n",
    "from sklearn.feature_extraction import DictVectorizer\n",
    "from sklearn.linear_model import LinearRegression\n",
    "from sklearn.metrics import mean_squared_error"
   ]
  },
  {
   "cell_type": "code",
   "execution_count": 2,
   "id": "80454d76",
   "metadata": {},
   "outputs": [],
   "source": [
    "data_folder = os.path.join('..','data')\n",
    "jan_file = os.path.join(data_folder, 'yellow_tripdata_2023-01.parquet')\n",
    "feb_file = os.path.join(data_folder, 'yellow_tripdata_2023-02.parquet')"
   ]
  },
  {
   "cell_type": "code",
   "execution_count": 3,
   "id": "6c1a7183",
   "metadata": {},
   "outputs": [],
   "source": [
    "df = pd.read_parquet(jan_file)"
   ]
  },
  {
   "cell_type": "code",
   "execution_count": 4,
   "id": "67c27b40",
   "metadata": {
    "scrolled": true
   },
   "outputs": [
    {
     "data": {
      "text/plain": [
       "19"
      ]
     },
     "execution_count": 4,
     "metadata": {},
     "output_type": "execute_result"
    }
   ],
   "source": [
    "# Q1. Downloading the data. How many columns are in January file?\n",
    "\n",
    "df.shape[1]"
   ]
  },
  {
   "cell_type": "code",
   "execution_count": 5,
   "id": "f2105162",
   "metadata": {},
   "outputs": [
    {
     "data": {
      "text/plain": [
       "42.59"
      ]
     },
     "execution_count": 5,
     "metadata": {},
     "output_type": "execute_result"
    }
   ],
   "source": [
    "# Q2. Standard deviation of the trips duration in January\n",
    "\n",
    "df['duration'] = (df['tpep_dropoff_datetime'] - df['tpep_pickup_datetime']).dt.total_seconds()/60\n",
    "round(df.describe()['duration']['std'], 2)"
   ]
  },
  {
   "cell_type": "code",
   "execution_count": 6,
   "id": "92228f39",
   "metadata": {},
   "outputs": [
    {
     "data": {
      "text/plain": [
       "0.98"
      ]
     },
     "execution_count": 6,
     "metadata": {},
     "output_type": "execute_result"
    }
   ],
   "source": [
    "# Q3. What fraction of records left after dropping the outliers?\n",
    "\n",
    "full_shape = df.shape[0]\n",
    "df_wo_outliers = df[(df['duration'] >= 1) & (df['duration'] <= 60)]\n",
    "dropped_outliers_shape = df_wo_outliers.shape[0]\n",
    "fraction_of_records_left = dropped_outliers_shape/full_shape\n",
    "round(fraction_of_records_left,2)"
   ]
  },
  {
   "cell_type": "code",
   "execution_count": 8,
   "id": "9b3826ad",
   "metadata": {
    "scrolled": true
   },
   "outputs": [
    {
     "name": "stderr",
     "output_type": "stream",
     "text": [
      "/tmp/ipykernel_11514/1027284247.py:3: SettingWithCopyWarning: \n",
      "A value is trying to be set on a copy of a slice from a DataFrame.\n",
      "Try using .loc[row_indexer,col_indexer] = value instead\n",
      "\n",
      "See the caveats in the documentation: https://pandas.pydata.org/pandas-docs/stable/user_guide/indexing.html#returning-a-view-versus-a-copy\n",
      "  df_wo_outliers[categorical] = df_wo_outliers[categorical].astype(str)\n"
     ]
    },
    {
     "data": {
      "text/plain": [
       "515"
      ]
     },
     "execution_count": 8,
     "metadata": {},
     "output_type": "execute_result"
    }
   ],
   "source": [
    "# Q4. One-hot encoding. What's dimensionality of matrix after applying OHE to pickup and dropoff location IDs?\n",
    "categorical = ['PULocationID', 'DOLocationID']\n",
    "df_wo_outliers[categorical] = df_wo_outliers[categorical].astype(str)\n",
    "\n",
    "dv = DictVectorizer()\n",
    "train_dicts = df_wo_outliers[categorical].to_dict(orient = 'records')\n",
    "X_train = dv.fit_transform(train_dicts)\n",
    "X_train.shape[1]"
   ]
  },
  {
   "cell_type": "code",
   "execution_count": 9,
   "id": "3b560859",
   "metadata": {},
   "outputs": [
    {
     "data": {
      "text/plain": [
       "7.65"
      ]
     },
     "execution_count": 9,
     "metadata": {},
     "output_type": "execute_result"
    }
   ],
   "source": [
    "# Q5. Train a linear regression model with default parameters. What's the RMSE on training data?\n",
    "target = 'duration'\n",
    "y_train = df_wo_outliers['duration'].values\n",
    "\n",
    "lr = LinearRegression()\n",
    "lr.fit(X_train, y_train)\n",
    "\n",
    "y_pred = lr.predict(X_train)\n",
    "\n",
    "round(mean_squared_error(y_train, y_pred, squared = False), 2)"
   ]
  },
  {
   "cell_type": "code",
   "execution_count": 10,
   "id": "03ceca25",
   "metadata": {},
   "outputs": [],
   "source": [
    "# Q6. Evaluate the model on february 2023 data\n",
    "df_val = pd.read_parquet(feb_file)\n",
    "df_val['duration'] = (df_val['tpep_dropoff_datetime'] - df_val['tpep_pickup_datetime']).dt.total_seconds()/60\n",
    "df_val_wo_outliers = df_val[(df_val['duration'] >= 1) & (df_val['duration'] <= 60)]\n",
    "\n",
    "categorical = ['PULocationID', 'DOLocationID']\n",
    "test_dicts = df_val_wo_outliers[categorical].astype(str).to_dict(orient = 'records')\n",
    "\n",
    "X_test = dv.transform(test_dicts)\n",
    "y_test = df_val_wo_outliers['duration'].values\n",
    "y_pred_test = lr.predict(X_test)"
   ]
  },
  {
   "cell_type": "code",
   "execution_count": 12,
   "id": "7bde4673",
   "metadata": {
    "scrolled": true
   },
   "outputs": [
    {
     "data": {
      "text/plain": [
       "7.811832641626525"
      ]
     },
     "execution_count": 12,
     "metadata": {},
     "output_type": "execute_result"
    }
   ],
   "source": [
    "mean_squared_error(y_pred_test, y_test, squared = False)"
   ]
  },
  {
   "cell_type": "code",
   "execution_count": 13,
   "id": "e9c036ee",
   "metadata": {},
   "outputs": [
    {
     "data": {
      "text/plain": [
       "<AxesSubplot:ylabel='Count'>"
      ]
     },
     "execution_count": 13,
     "metadata": {},
     "output_type": "execute_result"
    },
    {
     "data": {
      "image/png": "[encoded data removed]",
      "text/plain": [
       "<Figure size 432x288 with 1 Axes>"
      ]
     },
     "metadata": {
      "needs_background": "light"
     },
     "output_type": "display_data"
    }
   ],
   "source": [
    "sns.histplot(y_pred_test, label='prediction')\n",
    "sns.histplot(y_test, label='actual')"
   ]
  }
 ],
 "metadata": {
  "kernelspec": {
   "display_name": "Python 3 (ipykernel)",
   "language": "python",
   "name": "python3"
  },
  "language_info": {
   "codemirror_mode": {
    "name": "ipython",
    "version": 3
   },
   "file_extension": ".py",
   "mimetype": "text/x-python",
   "name": "python",
   "nbconvert_exporter": "python",
   "pygments_lexer": "ipython3",
   "version": "3.9.12"
  }
 },
 "nbformat": 4,
 "nbformat_minor": 5
}
